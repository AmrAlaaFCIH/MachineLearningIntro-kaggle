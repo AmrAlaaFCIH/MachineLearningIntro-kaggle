{
 "cells": [
  {
   "cell_type": "markdown",
   "id": "dc86a01f",
   "metadata": {
    "papermill": {
     "duration": 0.007208,
     "end_time": "2022-06-28T00:22:52.049452",
     "exception": false,
     "start_time": "2022-06-28T00:22:52.042244",
     "status": "completed"
    },
    "tags": []
   },
   "source": [
    "**This notebook is an exercise in the [Introduction to Machine Learning](https://www.kaggle.com/learn/intro-to-machine-learning) course.  You can reference the tutorial at [this link](https://www.kaggle.com/dansbecker/model-validation).**\n",
    "\n",
    "---\n"
   ]
  },
  {
   "cell_type": "markdown",
   "id": "d4e8c323",
   "metadata": {
    "papermill": {
     "duration": 0.004231,
     "end_time": "2022-06-28T00:22:52.060081",
     "exception": false,
     "start_time": "2022-06-28T00:22:52.055850",
     "status": "completed"
    },
    "tags": []
   },
   "source": [
    "## Recap\n",
    "You've built a model. In this exercise you will test how good your model is.\n",
    "\n",
    "Run the cell below to set up your coding environment where the previous exercise left off."
   ]
  },
  {
   "cell_type": "code",
   "execution_count": 1,
   "id": "91154fe5",
   "metadata": {
    "execution": {
     "iopub.execute_input": "2022-06-28T00:22:52.071466Z",
     "iopub.status.busy": "2022-06-28T00:22:52.070078Z",
     "iopub.status.idle": "2022-06-28T00:22:53.512711Z",
     "shell.execute_reply": "2022-06-28T00:22:53.511154Z"
    },
    "papermill": {
     "duration": 1.451007,
     "end_time": "2022-06-28T00:22:53.515481",
     "exception": false,
     "start_time": "2022-06-28T00:22:52.064474",
     "status": "completed"
    },
    "tags": []
   },
   "outputs": [
    {
     "name": "stdout",
     "output_type": "stream",
     "text": [
      "First in-sample predictions: [208500. 181500. 223500. 140000. 250000.]\n",
      "Actual target values for those homes: [208500, 181500, 223500, 140000, 250000]\n",
      "Setup Complete\n"
     ]
    }
   ],
   "source": [
    "# Code you have previously used to load data\n",
    "import pandas as pd\n",
    "from sklearn.tree import DecisionTreeRegressor\n",
    "\n",
    "# Path of the file to read\n",
    "iowa_file_path = '../input/home-data-for-ml-course/train.csv'\n",
    "\n",
    "home_data = pd.read_csv(iowa_file_path)\n",
    "y = home_data.SalePrice\n",
    "feature_columns = ['LotArea', 'YearBuilt', '1stFlrSF', '2ndFlrSF', 'FullBath', 'BedroomAbvGr', 'TotRmsAbvGrd']\n",
    "X = home_data[feature_columns]\n",
    "\n",
    "# Specify Model\n",
    "iowa_model = DecisionTreeRegressor()\n",
    "# Fit Model\n",
    "iowa_model.fit(X, y)\n",
    "\n",
    "print(\"First in-sample predictions:\", iowa_model.predict(X.head()))\n",
    "print(\"Actual target values for those homes:\", y.head().tolist())\n",
    "\n",
    "# Set up code checking\n",
    "from learntools.core import binder\n",
    "binder.bind(globals())\n",
    "from learntools.machine_learning.ex4 import *\n",
    "print(\"Setup Complete\")"
   ]
  },
  {
   "cell_type": "markdown",
   "id": "2c8481b1",
   "metadata": {
    "papermill": {
     "duration": 0.003726,
     "end_time": "2022-06-28T00:22:53.523257",
     "exception": false,
     "start_time": "2022-06-28T00:22:53.519531",
     "status": "completed"
    },
    "tags": []
   },
   "source": [
    "# Exercises\n",
    "\n",
    "## Step 1: Split Your Data\n",
    "Use the `train_test_split` function to split up your data.\n",
    "\n",
    "Give it the argument `random_state=1` so the `check` functions know what to expect when verifying your code.\n",
    "\n",
    "Recall, your features are loaded in the DataFrame **X** and your target is loaded in **y**.\n"
   ]
  },
  {
   "cell_type": "code",
   "execution_count": 2,
   "id": "b03300c4",
   "metadata": {
    "execution": {
     "iopub.execute_input": "2022-06-28T00:22:53.533320Z",
     "iopub.status.busy": "2022-06-28T00:22:53.532427Z",
     "iopub.status.idle": "2022-06-28T00:22:53.545874Z",
     "shell.execute_reply": "2022-06-28T00:22:53.544356Z"
    },
    "papermill": {
     "duration": 0.020961,
     "end_time": "2022-06-28T00:22:53.548176",
     "exception": false,
     "start_time": "2022-06-28T00:22:53.527215",
     "status": "completed"
    },
    "tags": []
   },
   "outputs": [
    {
     "data": {
      "application/javascript": [
       "parent.postMessage({\"jupyterEvent\": \"custom.exercise_interaction\", \"data\": {\"outcomeType\": 1, \"valueTowardsCompletion\": 0.25, \"interactionType\": 1, \"questionType\": 2, \"questionId\": \"1_SplitData\", \"learnToolsVersion\": \"0.3.4\", \"failureMessage\": \"\", \"exceptionClass\": \"\", \"trace\": \"\"}}, \"*\")"
      ],
      "text/plain": [
       "<IPython.core.display.Javascript object>"
      ]
     },
     "metadata": {},
     "output_type": "display_data"
    },
    {
     "data": {
      "text/markdown": [
       "<span style=\"color:#33cc33\">Correct</span>"
      ],
      "text/plain": [
       "Correct"
      ]
     },
     "metadata": {},
     "output_type": "display_data"
    }
   ],
   "source": [
    "# Import the train_test_split function and uncomment\n",
    "from sklearn.model_selection import train_test_split\n",
    "\n",
    "# fill in and uncomment\n",
    "train_X, val_X, train_y, val_y = train_test_split(X,y,random_state=1)\n",
    "\n",
    "# Check your answer\n",
    "step_1.check()"
   ]
  },
  {
   "cell_type": "code",
   "execution_count": 3,
   "id": "7af83868",
   "metadata": {
    "execution": {
     "iopub.execute_input": "2022-06-28T00:22:53.558058Z",
     "iopub.status.busy": "2022-06-28T00:22:53.557634Z",
     "iopub.status.idle": "2022-06-28T00:22:53.562349Z",
     "shell.execute_reply": "2022-06-28T00:22:53.560989Z"
    },
    "papermill": {
     "duration": 0.012315,
     "end_time": "2022-06-28T00:22:53.564627",
     "exception": false,
     "start_time": "2022-06-28T00:22:53.552312",
     "status": "completed"
    },
    "tags": []
   },
   "outputs": [],
   "source": [
    "# The lines below will show you a hint or the solution.\n",
    "# step_1.hint() \n",
    "# step_1.solution()\n"
   ]
  },
  {
   "cell_type": "markdown",
   "id": "283d02ef",
   "metadata": {
    "papermill": {
     "duration": 0.003742,
     "end_time": "2022-06-28T00:22:53.572566",
     "exception": false,
     "start_time": "2022-06-28T00:22:53.568824",
     "status": "completed"
    },
    "tags": []
   },
   "source": [
    "## Step 2: Specify and Fit the Model\n",
    "\n",
    "Create a `DecisionTreeRegressor` model and fit it to the relevant data.\n",
    "Set `random_state` to 1 again when creating the model."
   ]
  },
  {
   "cell_type": "code",
   "execution_count": 4,
   "id": "9b91da62",
   "metadata": {
    "execution": {
     "iopub.execute_input": "2022-06-28T00:22:53.582862Z",
     "iopub.status.busy": "2022-06-28T00:22:53.582068Z",
     "iopub.status.idle": "2022-06-28T00:22:53.609486Z",
     "shell.execute_reply": "2022-06-28T00:22:53.608198Z"
    },
    "papermill": {
     "duration": 0.034954,
     "end_time": "2022-06-28T00:22:53.611700",
     "exception": false,
     "start_time": "2022-06-28T00:22:53.576746",
     "status": "completed"
    },
    "tags": []
   },
   "outputs": [
    {
     "name": "stdout",
     "output_type": "stream",
     "text": [
      "[186500. 184000. 130000.  92000. 164500. 220000. 335000. 144152. 215000.\n",
      " 262000.]\n",
      "[186500. 184000. 130000.  92000. 164500. 220000. 335000. 144152. 215000.\n",
      " 262000.]\n"
     ]
    },
    {
     "data": {
      "application/javascript": [
       "parent.postMessage({\"jupyterEvent\": \"custom.exercise_interaction\", \"data\": {\"outcomeType\": 1, \"valueTowardsCompletion\": 0.25, \"interactionType\": 1, \"questionType\": 2, \"questionId\": \"2_FitModelWithTrain\", \"learnToolsVersion\": \"0.3.4\", \"failureMessage\": \"\", \"exceptionClass\": \"\", \"trace\": \"\"}}, \"*\")"
      ],
      "text/plain": [
       "<IPython.core.display.Javascript object>"
      ]
     },
     "metadata": {},
     "output_type": "display_data"
    },
    {
     "data": {
      "text/markdown": [
       "<span style=\"color:#33cc33\">Correct</span>"
      ],
      "text/plain": [
       "Correct"
      ]
     },
     "metadata": {},
     "output_type": "display_data"
    }
   ],
   "source": [
    "# You imported DecisionTreeRegressor in your last exercise\n",
    "# and that code has been copied to the setup code above. So, no need to\n",
    "# import it again\n",
    "\n",
    "# Specify the model\n",
    "iowa_model = DecisionTreeRegressor(random_state=1)\n",
    "\n",
    "# Fit iowa_model with the training data.\n",
    "iowa_model.fit(train_X,train_y)\n",
    "\n",
    "# Check your answer\n",
    "step_2.check()"
   ]
  },
  {
   "cell_type": "code",
   "execution_count": 5,
   "id": "ae44f4e4",
   "metadata": {
    "execution": {
     "iopub.execute_input": "2022-06-28T00:22:53.622501Z",
     "iopub.status.busy": "2022-06-28T00:22:53.622126Z",
     "iopub.status.idle": "2022-06-28T00:22:53.627087Z",
     "shell.execute_reply": "2022-06-28T00:22:53.625851Z"
    },
    "papermill": {
     "duration": 0.012836,
     "end_time": "2022-06-28T00:22:53.629330",
     "exception": false,
     "start_time": "2022-06-28T00:22:53.616494",
     "status": "completed"
    },
    "tags": []
   },
   "outputs": [],
   "source": [
    "# step_2.hint()\n",
    "# step_2.solution()"
   ]
  },
  {
   "cell_type": "markdown",
   "id": "c10899f5",
   "metadata": {
    "papermill": {
     "duration": 0.004101,
     "end_time": "2022-06-28T00:22:53.638000",
     "exception": false,
     "start_time": "2022-06-28T00:22:53.633899",
     "status": "completed"
    },
    "tags": []
   },
   "source": [
    "## Step 3: Make Predictions with Validation data\n"
   ]
  },
  {
   "cell_type": "code",
   "execution_count": 6,
   "id": "231a34bc",
   "metadata": {
    "execution": {
     "iopub.execute_input": "2022-06-28T00:22:53.648663Z",
     "iopub.status.busy": "2022-06-28T00:22:53.648045Z",
     "iopub.status.idle": "2022-06-28T00:22:53.658494Z",
     "shell.execute_reply": "2022-06-28T00:22:53.657635Z"
    },
    "papermill": {
     "duration": 0.018296,
     "end_time": "2022-06-28T00:22:53.660644",
     "exception": false,
     "start_time": "2022-06-28T00:22:53.642348",
     "status": "completed"
    },
    "tags": []
   },
   "outputs": [
    {
     "data": {
      "application/javascript": [
       "parent.postMessage({\"jupyterEvent\": \"custom.exercise_interaction\", \"data\": {\"outcomeType\": 1, \"valueTowardsCompletion\": 0.25, \"interactionType\": 1, \"questionType\": 2, \"questionId\": \"3_ValPreds\", \"learnToolsVersion\": \"0.3.4\", \"failureMessage\": \"\", \"exceptionClass\": \"\", \"trace\": \"\"}}, \"*\")"
      ],
      "text/plain": [
       "<IPython.core.display.Javascript object>"
      ]
     },
     "metadata": {},
     "output_type": "display_data"
    },
    {
     "data": {
      "text/markdown": [
       "<span style=\"color:#33cc33\">Correct</span>"
      ],
      "text/plain": [
       "Correct"
      ]
     },
     "metadata": {},
     "output_type": "display_data"
    }
   ],
   "source": [
    "# Predict with all validation observations\n",
    "val_predictions = iowa_model.predict(val_X)\n",
    "\n",
    "# Check your answer\n",
    "step_3.check()"
   ]
  },
  {
   "cell_type": "code",
   "execution_count": 7,
   "id": "6b16f911",
   "metadata": {
    "execution": {
     "iopub.execute_input": "2022-06-28T00:22:53.671696Z",
     "iopub.status.busy": "2022-06-28T00:22:53.671064Z",
     "iopub.status.idle": "2022-06-28T00:22:53.674726Z",
     "shell.execute_reply": "2022-06-28T00:22:53.673890Z"
    },
    "papermill": {
     "duration": 0.011727,
     "end_time": "2022-06-28T00:22:53.676890",
     "exception": false,
     "start_time": "2022-06-28T00:22:53.665163",
     "status": "completed"
    },
    "tags": []
   },
   "outputs": [],
   "source": [
    "# step_3.hint()\n",
    "# step_3.solution()"
   ]
  },
  {
   "cell_type": "markdown",
   "id": "187c0aec",
   "metadata": {
    "papermill": {
     "duration": 0.004279,
     "end_time": "2022-06-28T00:22:53.686012",
     "exception": false,
     "start_time": "2022-06-28T00:22:53.681733",
     "status": "completed"
    },
    "tags": []
   },
   "source": [
    "Inspect your predictions and actual values from validation data."
   ]
  },
  {
   "cell_type": "code",
   "execution_count": 8,
   "id": "f089d74a",
   "metadata": {
    "execution": {
     "iopub.execute_input": "2022-06-28T00:22:53.697671Z",
     "iopub.status.busy": "2022-06-28T00:22:53.697005Z",
     "iopub.status.idle": "2022-06-28T00:22:53.702951Z",
     "shell.execute_reply": "2022-06-28T00:22:53.702038Z"
    },
    "papermill": {
     "duration": 0.015599,
     "end_time": "2022-06-28T00:22:53.706209",
     "exception": false,
     "start_time": "2022-06-28T00:22:53.690610",
     "status": "completed"
    },
    "tags": []
   },
   "outputs": [
    {
     "name": "stdout",
     "output_type": "stream",
     "text": [
      "[186500. 184000. 130000.  92000. 164500.]\n",
      "258     231500\n",
      "267     179500\n",
      "288     122000\n",
      "649      84500\n",
      "1233    142000\n",
      "Name: SalePrice, dtype: int64\n"
     ]
    }
   ],
   "source": [
    "# print the top few validation predictions\n",
    "print(val_predictions[:5])\n",
    "# print the top few actual prices from validation data\n",
    "print(val_y[:5])"
   ]
  },
  {
   "cell_type": "markdown",
   "id": "f13cd488",
   "metadata": {
    "papermill": {
     "duration": 0.004561,
     "end_time": "2022-06-28T00:22:53.716187",
     "exception": false,
     "start_time": "2022-06-28T00:22:53.711626",
     "status": "completed"
    },
    "tags": []
   },
   "source": [
    "What do you notice that is different from what you saw with in-sample predictions (which are printed after the top code cell in this page).\n",
    "\n",
    "Do you remember why validation predictions differ from in-sample (or training) predictions? This is an important idea from the last lesson.\n",
    "\n",
    "## Step 4: Calculate the Mean Absolute Error in Validation Data\n"
   ]
  },
  {
   "cell_type": "code",
   "execution_count": 9,
   "id": "fa6cdbbe",
   "metadata": {
    "execution": {
     "iopub.execute_input": "2022-06-28T00:22:53.727530Z",
     "iopub.status.busy": "2022-06-28T00:22:53.727150Z",
     "iopub.status.idle": "2022-06-28T00:22:53.737998Z",
     "shell.execute_reply": "2022-06-28T00:22:53.736606Z"
    },
    "papermill": {
     "duration": 0.019277,
     "end_time": "2022-06-28T00:22:53.740201",
     "exception": false,
     "start_time": "2022-06-28T00:22:53.720924",
     "status": "completed"
    },
    "tags": []
   },
   "outputs": [
    {
     "name": "stdout",
     "output_type": "stream",
     "text": [
      "29652.931506849316\n"
     ]
    },
    {
     "data": {
      "application/javascript": [
       "parent.postMessage({\"jupyterEvent\": \"custom.exercise_interaction\", \"data\": {\"outcomeType\": 1, \"valueTowardsCompletion\": 0.25, \"interactionType\": 1, \"questionType\": 1, \"questionId\": \"4_MAE\", \"learnToolsVersion\": \"0.3.4\", \"failureMessage\": \"\", \"exceptionClass\": \"\", \"trace\": \"\"}}, \"*\")"
      ],
      "text/plain": [
       "<IPython.core.display.Javascript object>"
      ]
     },
     "metadata": {},
     "output_type": "display_data"
    },
    {
     "data": {
      "text/markdown": [
       "<span style=\"color:#33cc33\">Correct</span>"
      ],
      "text/plain": [
       "Correct"
      ]
     },
     "metadata": {},
     "output_type": "display_data"
    }
   ],
   "source": [
    "from sklearn.metrics import mean_absolute_error\n",
    "val_mae = mean_absolute_error(val_predictions,val_y)\n",
    "\n",
    "# uncomment following line to see the validation_mae\n",
    "print(val_mae)\n",
    "\n",
    "# Check your answer\n",
    "step_4.check()"
   ]
  },
  {
   "cell_type": "code",
   "execution_count": 10,
   "id": "ef07b6b8",
   "metadata": {
    "execution": {
     "iopub.execute_input": "2022-06-28T00:22:53.752109Z",
     "iopub.status.busy": "2022-06-28T00:22:53.751310Z",
     "iopub.status.idle": "2022-06-28T00:22:53.755877Z",
     "shell.execute_reply": "2022-06-28T00:22:53.755016Z"
    },
    "papermill": {
     "duration": 0.012933,
     "end_time": "2022-06-28T00:22:53.757943",
     "exception": false,
     "start_time": "2022-06-28T00:22:53.745010",
     "status": "completed"
    },
    "tags": []
   },
   "outputs": [],
   "source": [
    "# step_4.hint()\n",
    "# step_4.solution()"
   ]
  },
  {
   "cell_type": "markdown",
   "id": "51c71781",
   "metadata": {
    "papermill": {
     "duration": 0.004463,
     "end_time": "2022-06-28T00:22:53.767275",
     "exception": false,
     "start_time": "2022-06-28T00:22:53.762812",
     "status": "completed"
    },
    "tags": []
   },
   "source": [
    "Is that MAE good?  There isn't a general rule for what values are good that applies across applications. But you'll see how to use (and improve) this number in the next step.\n",
    "\n",
    "# Keep Going\n",
    "\n",
    "You are ready for **[Underfitting and Overfitting](https://www.kaggle.com/dansbecker/underfitting-and-overfitting).**\n"
   ]
  },
  {
   "cell_type": "markdown",
   "id": "b69ef9e3",
   "metadata": {
    "papermill": {
     "duration": 0.004672,
     "end_time": "2022-06-28T00:22:53.776783",
     "exception": false,
     "start_time": "2022-06-28T00:22:53.772111",
     "status": "completed"
    },
    "tags": []
   },
   "source": [
    "---\n",
    "\n",
    "\n",
    "\n",
    "\n",
    "*Have questions or comments? Visit the [course discussion forum](https://www.kaggle.com/learn/intro-to-machine-learning/discussion) to chat with other learners.*"
   ]
  }
 ],
 "metadata": {
  "kernelspec": {
   "display_name": "Python 3",
   "language": "python",
   "name": "python3"
  },
  "language_info": {
   "codemirror_mode": {
    "name": "ipython",
    "version": 3
   },
   "file_extension": ".py",
   "mimetype": "text/x-python",
   "name": "python",
   "nbconvert_exporter": "python",
   "pygments_lexer": "ipython3",
   "version": "3.7.12"
  },
  "papermill": {
   "default_parameters": {},
   "duration": 11.282813,
   "end_time": "2022-06-28T00:22:54.503317",
   "environment_variables": {},
   "exception": null,
   "input_path": "__notebook__.ipynb",
   "output_path": "__notebook__.ipynb",
   "parameters": {},
   "start_time": "2022-06-28T00:22:43.220504",
   "version": "2.3.4"
  }
 },
 "nbformat": 4,
 "nbformat_minor": 5
}
