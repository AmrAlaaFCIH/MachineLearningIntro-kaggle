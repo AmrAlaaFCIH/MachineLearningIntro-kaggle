{
 "cells": [
  {
   "cell_type": "markdown",
   "id": "7e360bfc",
   "metadata": {
    "papermill": {
     "duration": 0.007487,
     "end_time": "2022-06-28T00:16:38.198134",
     "exception": false,
     "start_time": "2022-06-28T00:16:38.190647",
     "status": "completed"
    },
    "tags": []
   },
   "source": [
    "**This notebook is an exercise in the [Introduction to Machine Learning](https://www.kaggle.com/learn/intro-to-machine-learning) course.  You can reference the tutorial at [this link](https://www.kaggle.com/dansbecker/your-first-machine-learning-model).**\n",
    "\n",
    "---\n"
   ]
  },
  {
   "cell_type": "markdown",
   "id": "a0772ed1",
   "metadata": {
    "papermill": {
     "duration": 0.006029,
     "end_time": "2022-06-28T00:16:38.210607",
     "exception": false,
     "start_time": "2022-06-28T00:16:38.204578",
     "status": "completed"
    },
    "tags": []
   },
   "source": [
    "## Recap\n",
    "So far, you have loaded your data and reviewed it with the following code. Run this cell to set up your coding environment where the previous step left off."
   ]
  },
  {
   "cell_type": "code",
   "execution_count": 1,
   "id": "b44ddadb",
   "metadata": {
    "execution": {
     "iopub.execute_input": "2022-06-28T00:16:38.226375Z",
     "iopub.status.busy": "2022-06-28T00:16:38.225264Z",
     "iopub.status.idle": "2022-06-28T00:16:39.880882Z",
     "shell.execute_reply": "2022-06-28T00:16:39.879637Z"
    },
    "papermill": {
     "duration": 1.666705,
     "end_time": "2022-06-28T00:16:39.883601",
     "exception": false,
     "start_time": "2022-06-28T00:16:38.216896",
     "status": "completed"
    },
    "tags": []
   },
   "outputs": [
    {
     "name": "stdout",
     "output_type": "stream",
     "text": [
      "Setup Complete\n"
     ]
    }
   ],
   "source": [
    "# Code you have previously used to load data\n",
    "import pandas as pd\n",
    "\n",
    "# Path of the file to read\n",
    "iowa_file_path = '../input/home-data-for-ml-course/train.csv'\n",
    "\n",
    "home_data = pd.read_csv(iowa_file_path)\n",
    "\n",
    "# Set up code checking\n",
    "from learntools.core import binder\n",
    "binder.bind(globals())\n",
    "from learntools.machine_learning.ex3 import *\n",
    "\n",
    "print(\"Setup Complete\")"
   ]
  },
  {
   "cell_type": "markdown",
   "id": "8c281829",
   "metadata": {
    "papermill": {
     "duration": 0.005968,
     "end_time": "2022-06-28T00:16:39.897163",
     "exception": false,
     "start_time": "2022-06-28T00:16:39.891195",
     "status": "completed"
    },
    "tags": []
   },
   "source": [
    "# Exercises\n",
    "\n",
    "## Step 1: Specify Prediction Target\n",
    "Select the target variable, which corresponds to the sales price. Save this to a new variable called `y`. You'll need to print a list of the columns to find the name of the column you need.\n"
   ]
  },
  {
   "cell_type": "code",
   "execution_count": 2,
   "id": "128c8bfe",
   "metadata": {
    "execution": {
     "iopub.execute_input": "2022-06-28T00:16:39.911315Z",
     "iopub.status.busy": "2022-06-28T00:16:39.910923Z",
     "iopub.status.idle": "2022-06-28T00:16:39.920835Z",
     "shell.execute_reply": "2022-06-28T00:16:39.919655Z"
    },
    "papermill": {
     "duration": 0.019958,
     "end_time": "2022-06-28T00:16:39.923378",
     "exception": false,
     "start_time": "2022-06-28T00:16:39.903420",
     "status": "completed"
    },
    "tags": []
   },
   "outputs": [
    {
     "data": {
      "text/plain": [
       "Index(['Id', 'MSSubClass', 'MSZoning', 'LotFrontage', 'LotArea', 'Street',\n",
       "       'Alley', 'LotShape', 'LandContour', 'Utilities', 'LotConfig',\n",
       "       'LandSlope', 'Neighborhood', 'Condition1', 'Condition2', 'BldgType',\n",
       "       'HouseStyle', 'OverallQual', 'OverallCond', 'YearBuilt', 'YearRemodAdd',\n",
       "       'RoofStyle', 'RoofMatl', 'Exterior1st', 'Exterior2nd', 'MasVnrType',\n",
       "       'MasVnrArea', 'ExterQual', 'ExterCond', 'Foundation', 'BsmtQual',\n",
       "       'BsmtCond', 'BsmtExposure', 'BsmtFinType1', 'BsmtFinSF1',\n",
       "       'BsmtFinType2', 'BsmtFinSF2', 'BsmtUnfSF', 'TotalBsmtSF', 'Heating',\n",
       "       'HeatingQC', 'CentralAir', 'Electrical', '1stFlrSF', '2ndFlrSF',\n",
       "       'LowQualFinSF', 'GrLivArea', 'BsmtFullBath', 'BsmtHalfBath', 'FullBath',\n",
       "       'HalfBath', 'BedroomAbvGr', 'KitchenAbvGr', 'KitchenQual',\n",
       "       'TotRmsAbvGrd', 'Functional', 'Fireplaces', 'FireplaceQu', 'GarageType',\n",
       "       'GarageYrBlt', 'GarageFinish', 'GarageCars', 'GarageArea', 'GarageQual',\n",
       "       'GarageCond', 'PavedDrive', 'WoodDeckSF', 'OpenPorchSF',\n",
       "       'EnclosedPorch', '3SsnPorch', 'ScreenPorch', 'PoolArea', 'PoolQC',\n",
       "       'Fence', 'MiscFeature', 'MiscVal', 'MoSold', 'YrSold', 'SaleType',\n",
       "       'SaleCondition', 'SalePrice'],\n",
       "      dtype='object')"
      ]
     },
     "execution_count": 2,
     "metadata": {},
     "output_type": "execute_result"
    }
   ],
   "source": [
    "# print the list of columns in the dataset to find the name of the prediction target\n",
    "home_data.columns"
   ]
  },
  {
   "cell_type": "code",
   "execution_count": 3,
   "id": "adcdb651",
   "metadata": {
    "execution": {
     "iopub.execute_input": "2022-06-28T00:16:39.938691Z",
     "iopub.status.busy": "2022-06-28T00:16:39.937871Z",
     "iopub.status.idle": "2022-06-28T00:16:39.953376Z",
     "shell.execute_reply": "2022-06-28T00:16:39.952185Z"
    },
    "papermill": {
     "duration": 0.026291,
     "end_time": "2022-06-28T00:16:39.955931",
     "exception": false,
     "start_time": "2022-06-28T00:16:39.929640",
     "status": "completed"
    },
    "tags": []
   },
   "outputs": [
    {
     "data": {
      "application/javascript": [
       "parent.postMessage({\"jupyterEvent\": \"custom.exercise_interaction\", \"data\": {\"outcomeType\": 1, \"valueTowardsCompletion\": 0.25, \"interactionType\": 1, \"questionType\": 2, \"questionId\": \"1_SetTarget\", \"learnToolsVersion\": \"0.3.4\", \"failureMessage\": \"\", \"exceptionClass\": \"\", \"trace\": \"\"}}, \"*\")"
      ],
      "text/plain": [
       "<IPython.core.display.Javascript object>"
      ]
     },
     "metadata": {},
     "output_type": "display_data"
    },
    {
     "data": {
      "text/markdown": [
       "<span style=\"color:#33cc33\">Correct</span>"
      ],
      "text/plain": [
       "Correct"
      ]
     },
     "metadata": {},
     "output_type": "display_data"
    }
   ],
   "source": [
    "y = home_data['SalePrice']\n",
    "\n",
    "# Check your answer\n",
    "step_1.check()"
   ]
  },
  {
   "cell_type": "code",
   "execution_count": 4,
   "id": "8e92b447",
   "metadata": {
    "collapsed": true,
    "execution": {
     "iopub.execute_input": "2022-06-28T00:16:39.971145Z",
     "iopub.status.busy": "2022-06-28T00:16:39.970722Z",
     "iopub.status.idle": "2022-06-28T00:16:39.975153Z",
     "shell.execute_reply": "2022-06-28T00:16:39.973989Z"
    },
    "jupyter": {
     "outputs_hidden": true
    },
    "papermill": {
     "duration": 0.015026,
     "end_time": "2022-06-28T00:16:39.977538",
     "exception": false,
     "start_time": "2022-06-28T00:16:39.962512",
     "status": "completed"
    },
    "tags": []
   },
   "outputs": [],
   "source": [
    "# The lines below will show you a hint or the solution.\n",
    "# step_1.hint() \n",
    "# step_1.solution()"
   ]
  },
  {
   "cell_type": "markdown",
   "id": "60abeef7",
   "metadata": {
    "papermill": {
     "duration": 0.006426,
     "end_time": "2022-06-28T00:16:39.990586",
     "exception": false,
     "start_time": "2022-06-28T00:16:39.984160",
     "status": "completed"
    },
    "tags": []
   },
   "source": [
    "## Step 2: Create X\n",
    "Now you will create a DataFrame called `X` holding the predictive features.\n",
    "\n",
    "Since you want only some columns from the original data, you'll first create a list with the names of the columns you want in `X`.\n",
    "\n",
    "You'll use just the following columns in the list (you can copy and paste the whole list to save some typing, though you'll still need to add quotes):\n",
    "  * LotArea\n",
    "  * YearBuilt\n",
    "  * 1stFlrSF\n",
    "  * 2ndFlrSF\n",
    "  * FullBath\n",
    "  * BedroomAbvGr\n",
    "  * TotRmsAbvGrd\n",
    "\n",
    "After you've created that list of features, use it to create the DataFrame that you'll use to fit the model."
   ]
  },
  {
   "cell_type": "code",
   "execution_count": 5,
   "id": "5e351699",
   "metadata": {
    "execution": {
     "iopub.execute_input": "2022-06-28T00:16:40.005935Z",
     "iopub.status.busy": "2022-06-28T00:16:40.005462Z",
     "iopub.status.idle": "2022-06-28T00:16:40.022502Z",
     "shell.execute_reply": "2022-06-28T00:16:40.021418Z"
    },
    "papermill": {
     "duration": 0.027705,
     "end_time": "2022-06-28T00:16:40.024949",
     "exception": false,
     "start_time": "2022-06-28T00:16:39.997244",
     "status": "completed"
    },
    "tags": []
   },
   "outputs": [
    {
     "data": {
      "application/javascript": [
       "parent.postMessage({\"jupyterEvent\": \"custom.exercise_interaction\", \"data\": {\"outcomeType\": 1, \"valueTowardsCompletion\": 0.25, \"interactionType\": 1, \"questionType\": 2, \"questionId\": \"2_SelectPredictionData\", \"learnToolsVersion\": \"0.3.4\", \"failureMessage\": \"\", \"exceptionClass\": \"\", \"trace\": \"\"}}, \"*\")"
      ],
      "text/plain": [
       "<IPython.core.display.Javascript object>"
      ]
     },
     "metadata": {},
     "output_type": "display_data"
    },
    {
     "data": {
      "text/markdown": [
       "<span style=\"color:#33cc33\">Correct</span>"
      ],
      "text/plain": [
       "Correct"
      ]
     },
     "metadata": {},
     "output_type": "display_data"
    }
   ],
   "source": [
    "# Create the list of features below\n",
    "feature_names = [\"LotArea\",\"YearBuilt\",\"1stFlrSF\",\"2ndFlrSF\",\"FullBath\",\"BedroomAbvGr\",\"TotRmsAbvGrd\"]\n",
    "\n",
    "# Select data corresponding to features in feature_names\n",
    "X = home_data[feature_names]\n",
    "\n",
    "# Check your answer\n",
    "step_2.check()"
   ]
  },
  {
   "cell_type": "code",
   "execution_count": 6,
   "id": "9c03610f",
   "metadata": {
    "collapsed": true,
    "execution": {
     "iopub.execute_input": "2022-06-28T00:16:40.040568Z",
     "iopub.status.busy": "2022-06-28T00:16:40.040189Z",
     "iopub.status.idle": "2022-06-28T00:16:40.045165Z",
     "shell.execute_reply": "2022-06-28T00:16:40.043899Z"
    },
    "jupyter": {
     "outputs_hidden": true
    },
    "papermill": {
     "duration": 0.015685,
     "end_time": "2022-06-28T00:16:40.047622",
     "exception": false,
     "start_time": "2022-06-28T00:16:40.031937",
     "status": "completed"
    },
    "tags": []
   },
   "outputs": [],
   "source": [
    "# step_2.hint()\n",
    "# step_2.solution()"
   ]
  },
  {
   "cell_type": "markdown",
   "id": "a5b9298d",
   "metadata": {
    "papermill": {
     "duration": 0.007144,
     "end_time": "2022-06-28T00:16:40.062211",
     "exception": false,
     "start_time": "2022-06-28T00:16:40.055067",
     "status": "completed"
    },
    "tags": []
   },
   "source": [
    "## Review Data\n",
    "Before building a model, take a quick look at **X** to verify it looks sensible"
   ]
  },
  {
   "cell_type": "code",
   "execution_count": 7,
   "id": "a631bd34",
   "metadata": {
    "execution": {
     "iopub.execute_input": "2022-06-28T00:16:40.078668Z",
     "iopub.status.busy": "2022-06-28T00:16:40.078291Z",
     "iopub.status.idle": "2022-06-28T00:16:40.118383Z",
     "shell.execute_reply": "2022-06-28T00:16:40.117057Z"
    },
    "papermill": {
     "duration": 0.051322,
     "end_time": "2022-06-28T00:16:40.121048",
     "exception": false,
     "start_time": "2022-06-28T00:16:40.069726",
     "status": "completed"
    },
    "tags": []
   },
   "outputs": [
    {
     "name": "stdout",
     "output_type": "stream",
     "text": [
      "             LotArea    YearBuilt     1stFlrSF     2ndFlrSF     FullBath  \\\n",
      "count    1460.000000  1460.000000  1460.000000  1460.000000  1460.000000   \n",
      "mean    10516.828082  1971.267808  1162.626712   346.992466     1.565068   \n",
      "std      9981.264932    30.202904   386.587738   436.528436     0.550916   \n",
      "min      1300.000000  1872.000000   334.000000     0.000000     0.000000   \n",
      "25%      7553.500000  1954.000000   882.000000     0.000000     1.000000   \n",
      "50%      9478.500000  1973.000000  1087.000000     0.000000     2.000000   \n",
      "75%     11601.500000  2000.000000  1391.250000   728.000000     2.000000   \n",
      "max    215245.000000  2010.000000  4692.000000  2065.000000     3.000000   \n",
      "\n",
      "       BedroomAbvGr  TotRmsAbvGrd  \n",
      "count   1460.000000   1460.000000  \n",
      "mean       2.866438      6.517808  \n",
      "std        0.815778      1.625393  \n",
      "min        0.000000      2.000000  \n",
      "25%        2.000000      5.000000  \n",
      "50%        3.000000      6.000000  \n",
      "75%        3.000000      7.000000  \n",
      "max        8.000000     14.000000  \n",
      "   LotArea  YearBuilt  1stFlrSF  2ndFlrSF  FullBath  BedroomAbvGr  \\\n",
      "0     8450       2003       856       854         2             3   \n",
      "1     9600       1976      1262         0         2             3   \n",
      "2    11250       2001       920       866         2             3   \n",
      "3     9550       1915       961       756         1             3   \n",
      "4    14260       2000      1145      1053         2             4   \n",
      "\n",
      "   TotRmsAbvGrd  \n",
      "0             8  \n",
      "1             6  \n",
      "2             6  \n",
      "3             7  \n",
      "4             9  \n"
     ]
    }
   ],
   "source": [
    "# Review data\n",
    "# print description or statistics from X\n",
    "print(X.describe())\n",
    "\n",
    "# print the top few lines\n",
    "print(X.head())"
   ]
  },
  {
   "cell_type": "markdown",
   "id": "c1240cfa",
   "metadata": {
    "papermill": {
     "duration": 0.006685,
     "end_time": "2022-06-28T00:16:40.134840",
     "exception": false,
     "start_time": "2022-06-28T00:16:40.128155",
     "status": "completed"
    },
    "tags": []
   },
   "source": [
    "## Step 3: Specify and Fit Model\n",
    "Create a `DecisionTreeRegressor` and save it iowa_model. Ensure you've done the relevant import from sklearn to run this command.\n",
    "\n",
    "Then fit the model you just created using the data in `X` and `y` that you saved above."
   ]
  },
  {
   "cell_type": "code",
   "execution_count": 8,
   "id": "f21b352e",
   "metadata": {
    "execution": {
     "iopub.execute_input": "2022-06-28T00:16:40.150969Z",
     "iopub.status.busy": "2022-06-28T00:16:40.150306Z",
     "iopub.status.idle": "2022-06-28T00:16:40.171036Z",
     "shell.execute_reply": "2022-06-28T00:16:40.169883Z"
    },
    "papermill": {
     "duration": 0.03161,
     "end_time": "2022-06-28T00:16:40.173351",
     "exception": false,
     "start_time": "2022-06-28T00:16:40.141741",
     "status": "completed"
    },
    "tags": []
   },
   "outputs": [
    {
     "data": {
      "application/javascript": [
       "parent.postMessage({\"jupyterEvent\": \"custom.exercise_interaction\", \"data\": {\"outcomeType\": 1, \"valueTowardsCompletion\": 0.25, \"interactionType\": 1, \"questionType\": 2, \"questionId\": \"3_CreateModel\", \"learnToolsVersion\": \"0.3.4\", \"failureMessage\": \"\", \"exceptionClass\": \"\", \"trace\": \"\"}}, \"*\")"
      ],
      "text/plain": [
       "<IPython.core.display.Javascript object>"
      ]
     },
     "metadata": {},
     "output_type": "display_data"
    },
    {
     "data": {
      "text/markdown": [
       "<span style=\"color:#33cc33\">Correct</span>"
      ],
      "text/plain": [
       "Correct"
      ]
     },
     "metadata": {},
     "output_type": "display_data"
    }
   ],
   "source": [
    " from sklearn.tree import DecisionTreeRegressor\n",
    "#specify the model. \n",
    "#For model reproducibility, set a numeric value for random_state when specifying the model\n",
    "iowa_model = DecisionTreeRegressor(random_state=42)\n",
    "\n",
    "# Fit the model\n",
    "iowa_model.fit(X,y)\n",
    "\n",
    "# Check your answer\n",
    "step_3.check()"
   ]
  },
  {
   "cell_type": "code",
   "execution_count": 9,
   "id": "e42ba60d",
   "metadata": {
    "collapsed": true,
    "execution": {
     "iopub.execute_input": "2022-06-28T00:16:40.190896Z",
     "iopub.status.busy": "2022-06-28T00:16:40.189470Z",
     "iopub.status.idle": "2022-06-28T00:16:40.194874Z",
     "shell.execute_reply": "2022-06-28T00:16:40.193836Z"
    },
    "jupyter": {
     "outputs_hidden": true
    },
    "papermill": {
     "duration": 0.016361,
     "end_time": "2022-06-28T00:16:40.197198",
     "exception": false,
     "start_time": "2022-06-28T00:16:40.180837",
     "status": "completed"
    },
    "tags": []
   },
   "outputs": [],
   "source": [
    "# step_3.hint()\n",
    "# step_3.solution()"
   ]
  },
  {
   "cell_type": "markdown",
   "id": "e0115a22",
   "metadata": {
    "papermill": {
     "duration": 0.007346,
     "end_time": "2022-06-28T00:16:40.212050",
     "exception": false,
     "start_time": "2022-06-28T00:16:40.204704",
     "status": "completed"
    },
    "tags": []
   },
   "source": [
    "## Step 4: Make Predictions\n",
    "Make predictions with the model's `predict` command using `X` as the data. Save the results to a variable called `predictions`."
   ]
  },
  {
   "cell_type": "code",
   "execution_count": 10,
   "id": "6b57de05",
   "metadata": {
    "execution": {
     "iopub.execute_input": "2022-06-28T00:16:40.229504Z",
     "iopub.status.busy": "2022-06-28T00:16:40.229101Z",
     "iopub.status.idle": "2022-06-28T00:16:40.243796Z",
     "shell.execute_reply": "2022-06-28T00:16:40.242336Z"
    },
    "papermill": {
     "duration": 0.026581,
     "end_time": "2022-06-28T00:16:40.246080",
     "exception": false,
     "start_time": "2022-06-28T00:16:40.219499",
     "status": "completed"
    },
    "tags": []
   },
   "outputs": [
    {
     "name": "stdout",
     "output_type": "stream",
     "text": [
      "[208500. 181500. 223500. ... 266500. 142125. 147500.]\n"
     ]
    },
    {
     "data": {
      "application/javascript": [
       "parent.postMessage({\"jupyterEvent\": \"custom.exercise_interaction\", \"data\": {\"outcomeType\": 1, \"valueTowardsCompletion\": 0.25, \"interactionType\": 1, \"questionType\": 2, \"questionId\": \"4_MakePredictions\", \"learnToolsVersion\": \"0.3.4\", \"failureMessage\": \"\", \"exceptionClass\": \"\", \"trace\": \"\"}}, \"*\")"
      ],
      "text/plain": [
       "<IPython.core.display.Javascript object>"
      ]
     },
     "metadata": {},
     "output_type": "display_data"
    },
    {
     "data": {
      "text/markdown": [
       "<span style=\"color:#33cc33\">Correct</span>"
      ],
      "text/plain": [
       "Correct"
      ]
     },
     "metadata": {},
     "output_type": "display_data"
    }
   ],
   "source": [
    "predictions = iowa_model.predict(X)\n",
    "print(predictions)\n",
    "\n",
    "# Check your answer\n",
    "step_4.check()"
   ]
  },
  {
   "cell_type": "code",
   "execution_count": 11,
   "id": "8d3d2a19",
   "metadata": {
    "collapsed": true,
    "execution": {
     "iopub.execute_input": "2022-06-28T00:16:40.263354Z",
     "iopub.status.busy": "2022-06-28T00:16:40.262936Z",
     "iopub.status.idle": "2022-06-28T00:16:40.268330Z",
     "shell.execute_reply": "2022-06-28T00:16:40.266992Z"
    },
    "jupyter": {
     "outputs_hidden": true
    },
    "papermill": {
     "duration": 0.017098,
     "end_time": "2022-06-28T00:16:40.270878",
     "exception": false,
     "start_time": "2022-06-28T00:16:40.253780",
     "status": "completed"
    },
    "tags": []
   },
   "outputs": [],
   "source": [
    "# step_4.hint()\n",
    "# step_4.solution()"
   ]
  },
  {
   "cell_type": "markdown",
   "id": "40dc9fa4",
   "metadata": {
    "papermill": {
     "duration": 0.007523,
     "end_time": "2022-06-28T00:16:40.286484",
     "exception": false,
     "start_time": "2022-06-28T00:16:40.278961",
     "status": "completed"
    },
    "tags": []
   },
   "source": [
    "## Think About Your Results\n",
    "\n",
    "Use the `head` method to compare the top few predictions to the actual home values (in `y`) for those same homes. Anything surprising?\n"
   ]
  },
  {
   "cell_type": "code",
   "execution_count": 12,
   "id": "a369a57e",
   "metadata": {
    "execution": {
     "iopub.execute_input": "2022-06-28T00:16:40.303873Z",
     "iopub.status.busy": "2022-06-28T00:16:40.303415Z",
     "iopub.status.idle": "2022-06-28T00:16:40.310539Z",
     "shell.execute_reply": "2022-06-28T00:16:40.309337Z"
    },
    "papermill": {
     "duration": 0.018745,
     "end_time": "2022-06-28T00:16:40.312996",
     "exception": false,
     "start_time": "2022-06-28T00:16:40.294251",
     "status": "completed"
    },
    "tags": []
   },
   "outputs": [
    {
     "data": {
      "text/plain": [
       "array([208500., 181500., 223500., ..., 266500., 142125., 147500.])"
      ]
     },
     "execution_count": 12,
     "metadata": {},
     "output_type": "execute_result"
    }
   ],
   "source": [
    "# You can write code in this cell\n",
    "predictions "
   ]
  },
  {
   "cell_type": "code",
   "execution_count": 13,
   "id": "b81eb228",
   "metadata": {
    "execution": {
     "iopub.execute_input": "2022-06-28T00:16:40.330925Z",
     "iopub.status.busy": "2022-06-28T00:16:40.330501Z",
     "iopub.status.idle": "2022-06-28T00:16:40.338686Z",
     "shell.execute_reply": "2022-06-28T00:16:40.337866Z"
    },
    "papermill": {
     "duration": 0.019801,
     "end_time": "2022-06-28T00:16:40.340892",
     "exception": false,
     "start_time": "2022-06-28T00:16:40.321091",
     "status": "completed"
    },
    "tags": []
   },
   "outputs": [
    {
     "data": {
      "text/plain": [
       "0       208500\n",
       "1       181500\n",
       "2       223500\n",
       "3       140000\n",
       "4       250000\n",
       "         ...  \n",
       "1455    175000\n",
       "1456    210000\n",
       "1457    266500\n",
       "1458    142125\n",
       "1459    147500\n",
       "Name: SalePrice, Length: 1460, dtype: int64"
      ]
     },
     "execution_count": 13,
     "metadata": {},
     "output_type": "execute_result"
    }
   ],
   "source": [
    "y"
   ]
  },
  {
   "cell_type": "markdown",
   "id": "e5ac48b3",
   "metadata": {
    "papermill": {
     "duration": 0.008016,
     "end_time": "2022-06-28T00:16:40.357453",
     "exception": false,
     "start_time": "2022-06-28T00:16:40.349437",
     "status": "completed"
    },
    "tags": []
   },
   "source": [
    "It's natural to ask how accurate the model's predictions will be and how you can improve that. That will be you're next step.\n",
    "\n",
    "# Keep Going\n",
    "\n",
    "You are ready for **[Model Validation](https://www.kaggle.com/dansbecker/model-validation).**\n"
   ]
  },
  {
   "cell_type": "markdown",
   "id": "d670a7b2",
   "metadata": {
    "papermill": {
     "duration": 0.008056,
     "end_time": "2022-06-28T00:16:40.373663",
     "exception": false,
     "start_time": "2022-06-28T00:16:40.365607",
     "status": "completed"
    },
    "tags": []
   },
   "source": [
    "---\n",
    "\n",
    "\n",
    "\n",
    "\n",
    "*Have questions or comments? Visit the [course discussion forum](https://www.kaggle.com/learn/intro-to-machine-learning/discussion) to chat with other learners.*"
   ]
  }
 ],
 "metadata": {
  "kernelspec": {
   "display_name": "Python 3",
   "language": "python",
   "name": "python3"
  },
  "language_info": {
   "codemirror_mode": {
    "name": "ipython",
    "version": 3
   },
   "file_extension": ".py",
   "mimetype": "text/x-python",
   "name": "python",
   "nbconvert_exporter": "python",
   "pygments_lexer": "ipython3",
   "version": "3.7.12"
  },
  "papermill": {
   "default_parameters": {},
   "duration": 13.833691,
   "end_time": "2022-06-28T00:16:41.205055",
   "environment_variables": {},
   "exception": null,
   "input_path": "__notebook__.ipynb",
   "output_path": "__notebook__.ipynb",
   "parameters": {},
   "start_time": "2022-06-28T00:16:27.371364",
   "version": "2.3.4"
  }
 },
 "nbformat": 4,
 "nbformat_minor": 5
}
